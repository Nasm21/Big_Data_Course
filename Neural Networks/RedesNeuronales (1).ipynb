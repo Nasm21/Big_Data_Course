{
 "cells": [
  {
   "cell_type": "markdown",
   "id": "6ff4a9d2",
   "metadata": {},
   "source": [
    "# Redes Neuronales"
   ]
  },
  {
   "cell_type": "code",
   "execution_count": 1,
   "id": "301d192f",
   "metadata": {},
   "outputs": [
    {
     "name": "stdout",
     "output_type": "stream",
     "text": [
      "Note: you may need to restart the kernel to use updated packages.\n"
     ]
    },
    {
     "name": "stderr",
     "output_type": "stream",
     "text": [
      "ERROR: Could not find a version that satisfies the requirement tensorflow (from versions: none)\n",
      "ERROR: No matching distribution found for tensorflow\n",
      "\n",
      "[notice] A new release of pip is available: 23.2.1 -> 23.3.1\n",
      "[notice] To update, run: python.exe -m pip install --upgrade pip\n"
     ]
    }
   ],
   "source": [
    "pip install tensorflow"
   ]
  },
  {
   "cell_type": "code",
   "execution_count": 2,
   "id": "86c7c013",
   "metadata": {},
   "outputs": [
    {
     "ename": "ModuleNotFoundError",
     "evalue": "No module named 'tensorflow'",
     "output_type": "error",
     "traceback": [
      "\u001b[1;31m---------------------------------------------------------------------------\u001b[0m",
      "\u001b[1;31mModuleNotFoundError\u001b[0m                       Traceback (most recent call last)",
      "\u001b[1;32mc:\\Users\\Natalia\\Downloads\\RedesNeuronales (1).ipynb Cell 3\u001b[0m line \u001b[0;36m6\n\u001b[0;32m      <a href='vscode-notebook-cell:/c%3A/Users/Natalia/Downloads/RedesNeuronales%20%281%29.ipynb#W2sZmlsZQ%3D%3D?line=0'>1</a>\u001b[0m \u001b[39m'''Estas bibliotecas son muy utilizadas en el ámbito del aprendizaje automático y la inteligencia artificial. \u001b[39;00m\n\u001b[0;32m      <a href='vscode-notebook-cell:/c%3A/Users/Natalia/Downloads/RedesNeuronales%20%281%29.ipynb#W2sZmlsZQ%3D%3D?line=1'>2</a>\u001b[0m \u001b[39mTensorFlow proporciona herramientas para construir y entrenar modelos de aprendizaje automático, \u001b[39;00m\n\u001b[0;32m      <a href='vscode-notebook-cell:/c%3A/Users/Natalia/Downloads/RedesNeuronales%20%281%29.ipynb#W2sZmlsZQ%3D%3D?line=2'>3</a>\u001b[0m \u001b[39mmientras que NumPy ofrece funciones y operaciones eficientes para trabajar con matrices y realizar \u001b[39;00m\n\u001b[0;32m      <a href='vscode-notebook-cell:/c%3A/Users/Natalia/Downloads/RedesNeuronales%20%281%29.ipynb#W2sZmlsZQ%3D%3D?line=3'>4</a>\u001b[0m \u001b[39mcálculos numéricos. '''\u001b[39;00m\n\u001b[1;32m----> <a href='vscode-notebook-cell:/c%3A/Users/Natalia/Downloads/RedesNeuronales%20%281%29.ipynb#W2sZmlsZQ%3D%3D?line=5'>6</a>\u001b[0m \u001b[39mimport\u001b[39;00m \u001b[39mtensorflow\u001b[39;00m \u001b[39mas\u001b[39;00m \u001b[39mtf\u001b[39;00m \u001b[39m#keras\u001b[39;00m\n\u001b[0;32m      <a href='vscode-notebook-cell:/c%3A/Users/Natalia/Downloads/RedesNeuronales%20%281%29.ipynb#W2sZmlsZQ%3D%3D?line=6'>7</a>\u001b[0m \u001b[39mimport\u001b[39;00m \u001b[39mnumpy\u001b[39;00m \u001b[39mas\u001b[39;00m \u001b[39mnp\u001b[39;00m\n",
      "\u001b[1;31mModuleNotFoundError\u001b[0m: No module named 'tensorflow'"
     ]
    }
   ],
   "source": [
    "'''Estas bibliotecas son muy utilizadas en el ámbito del aprendizaje automático y la inteligencia artificial. \n",
    "TensorFlow proporciona herramientas para construir y entrenar modelos de aprendizaje automático, \n",
    "mientras que NumPy ofrece funciones y operaciones eficientes para trabajar con matrices y realizar \n",
    "cálculos numéricos. '''\n",
    "\n",
    "import tensorflow as tf #keras\n",
    "import numpy as np"
   ]
  },
  {
   "cell_type": "code",
   "execution_count": 4,
   "id": "0aa1ef3c",
   "metadata": {},
   "outputs": [
    {
     "data": {
      "text/plain": [
       "numpy.ndarray"
      ]
     },
     "execution_count": 4,
     "metadata": {},
     "output_type": "execute_result"
    }
   ],
   "source": [
    "celsius = np.array([-40, -10, 0, 8, 15, 22, 38], dtype=float) #entrada\n",
    "fahrenheit = np.array([-40, 14, 32, 46, 59, 72, 100], dtype=float) #Salida\n",
    "\n",
    "type(celsius) "
   ]
  },
  {
   "cell_type": "code",
   "execution_count": 5,
   "id": "60cd7e5e",
   "metadata": {},
   "outputs": [
    {
     "name": "stdout",
     "output_type": "stream",
     "text": [
      "WARNING:tensorflow:From C:\\Users\\diego\\anaconda3\\lib\\site-packages\\keras\\src\\backend.py:873: The name tf.get_default_graph is deprecated. Please use tf.compat.v1.get_default_graph instead.\n",
      "\n"
     ]
    }
   ],
   "source": [
    "# Crear una capa densa (fully connected)\n",
    "# - 'units=1': La capa tiene un solo nodo, común en modelos de regresión lineal.\n",
    "# - 'input_shape=[1]': La capa espera entradas unidimensionales.\n",
    "capa = tf.keras.layers.Dense(units=1, input_shape=[1]) \n",
    "\n",
    "# Crear un modelo secuencial\n",
    "# - Se pasa la capa creada anteriormente como único elemento en la lista.\n",
    "modelo = tf.keras.Sequential([capa])"
   ]
  },
  {
   "cell_type": "code",
   "execution_count": 6,
   "id": "6ea9c689",
   "metadata": {},
   "outputs": [],
   "source": [
    "# Configurar el modelo para el entrenamiento\n",
    "#Optimizador= Adam es un algoritmo de optimización que ajusta automáticamente la tasa de aprendizaje \n",
    "#durante el entrenamiento. La tasa de aprendizaje está configurada en 0.1\n",
    "#Loss= Se establece la función de pérdida como el error cuadrático medio (residuales).\n",
    "modelo.compile(\n",
    "    optimizer=tf.keras.optimizers.Adam(0.1),\n",
    "    loss='mean_squared_error'\n",
    ")"
   ]
  },
  {
   "cell_type": "code",
   "execution_count": 7,
   "id": "b5dcdd77",
   "metadata": {},
   "outputs": [
    {
     "name": "stdout",
     "output_type": "stream",
     "text": [
      "Comenzando entrenamiento...\n",
      "WARNING:tensorflow:From C:\\Users\\diego\\anaconda3\\lib\\site-packages\\keras\\src\\utils\\tf_utils.py:492: The name tf.ragged.RaggedTensorValue is deprecated. Please use tf.compat.v1.ragged.RaggedTensorValue instead.\n",
      "\n",
      "Modelo entrenado!\n"
     ]
    }
   ],
   "source": [
    "# Entrenar el modelo utilizando los datos de entrada 'celsius' y salida 'fahrenheit'\n",
    "# - 'epochs=380': Número de veces que el modelo pasará por todos los datos de entrenamiento \n",
    "# durante el entrenamiento.\n",
    "# - 'verbose=False': Desactiva la visualización de información detallada durante el entrenamiento.\n",
    "print(\"Comenzando entrenamiento...\")\n",
    "historial = modelo.fit(celsius, fahrenheit, epochs=380, verbose=False)\n",
    "print(\"Modelo entrenado!\")"
   ]
  },
  {
   "cell_type": "code",
   "execution_count": 8,
   "id": "3ec1fb66",
   "metadata": {
    "scrolled": true
   },
   "outputs": [
    {
     "data": {
      "text/plain": [
       "[<matplotlib.lines.Line2D at 0x27ec9067280>]"
      ]
     },
     "execution_count": 8,
     "metadata": {},
     "output_type": "execute_result"
    },
    {
     "data": {
      "image/png": "[encoded data removed]",
      "text/plain": [
       "<Figure size 640x480 with 1 Axes>"
      ]
     },
     "metadata": {},
     "output_type": "display_data"
    }
   ],
   "source": [
    "import matplotlib.pyplot as plt\n",
    "plt.xlabel(\"# Epoca\")\n",
    "plt.ylabel(\"Magnitud de pérdida\")\n",
    "# Graficar el historial de pérdida durante el entrenamiento\n",
    "plt.plot(historial.history[\"loss\"])"
   ]
  },
  {
   "cell_type": "code",
   "execution_count": 9,
   "id": "8742cd46",
   "metadata": {},
   "outputs": [
    {
     "name": "stdout",
     "output_type": "stream",
     "text": [
      "Hagamos una predicción!\n",
      "1/1 [==============================] - 0s 168ms/step\n",
      "El resultado es [[110.457054]] fahrenheit!\n"
     ]
    }
   ],
   "source": [
    "print(\"Hagamos una predicción!\")\n",
    "resultado = modelo.predict([46])\n",
    "print(\"El resultado es \" + str(resultado) + \" fahrenheit!\")"
   ]
  },
  {
   "cell_type": "code",
   "execution_count": 10,
   "id": "2051f5a1",
   "metadata": {},
   "outputs": [
    {
     "name": "stdout",
     "output_type": "stream",
     "text": [
      "Variables internas del modelo\n",
      "            peso                              sesgo\n",
      "[array([[1.8584795]], dtype=float32), array([24.966997], dtype=float32)]\n"
     ]
    }
   ],
   "source": [
    "print(\"Variables internas del modelo\")\n",
    "print(\"            peso     \" + \"                         sesgo\")\n",
    "\n",
    "print(capa.get_weights())"
   ]
  },
  {
   "cell_type": "code",
   "execution_count": 11,
   "id": "ca7f5a18",
   "metadata": {},
   "outputs": [],
   "source": [
    "#oculta1 = tf.keras.layers.Dense(units=3, input_shape=[1])\n",
    "#oculta2 = tf.keras.layers.Dense(units=3)\n",
    "#oculta3 = tf.keras.layers.Dense(units=1)\n",
    "#modelo = tf.keras.Sequential([oculta1, oculta2, oculta3])"
   ]
  },
  {
   "cell_type": "code",
   "execution_count": 12,
   "id": "5e2f260f",
   "metadata": {},
   "outputs": [],
   "source": [
    "#modelo.compile(\n",
    "    #optimizer=tf.keras.optimizers.Adam(0.1),\n",
    "    #loss='mean_squared_error'\n",
    "#)"
   ]
  },
  {
   "cell_type": "code",
   "execution_count": 13,
   "id": "fcb40ffc",
   "metadata": {},
   "outputs": [
    {
     "name": "stdout",
     "output_type": "stream",
     "text": [
      "Comenzando entrenamiento...\n",
      "Modelo entrenado!\n"
     ]
    }
   ],
   "source": [
    "print(\"Comenzando entrenamiento...\")\n",
    "historial = modelo.fit(celsius, fahrenheit, epochs=80, verbose=False)\n",
    "print(\"Modelo entrenado!\")"
   ]
  },
  {
   "cell_type": "code",
   "execution_count": 14,
   "id": "0aaa04a1",
   "metadata": {},
   "outputs": [],
   "source": [
    "import matplotlib.pyplot as plt\n",
    "#plt.xlabel(\"# Epoca\")\n",
    "#plt.ylabel(\"Magnitud de pérdida\")\n",
    "#plt.plot(historial.history[\"loss\"])"
   ]
  },
  {
   "cell_type": "code",
   "execution_count": 15,
   "id": "d9003074",
   "metadata": {},
   "outputs": [
    {
     "name": "stdout",
     "output_type": "stream",
     "text": [
      "Hagamos una predicción!\n",
      "1/1 [==============================] - 0s 53ms/step\n",
      "El resultado es [[111.99003]] fahrenheit!\n"
     ]
    }
   ],
   "source": [
    "print(\"Hagamos una predicción!\")\n",
    "# Realizar una predicción utilizando el modelo entrenado\n",
    "resultado = modelo.predict([46])\n",
    "print(\"El resultado es \" + str(resultado) + \" fahrenheit!\")"
   ]
  },
  {
   "cell_type": "code",
   "execution_count": 16,
   "id": "4fce22cf",
   "metadata": {},
   "outputs": [
    {
     "name": "stderr",
     "output_type": "stream",
     "text": [
      "C:\\Users\\diego\\anaconda3\\lib\\site-packages\\keras\\src\\engine\\training.py:3103: UserWarning: You are saving your model as an HDF5 file via `model.save()`. This file format is considered legacy. We recommend using instead the native Keras format, e.g. `model.save('my_model.keras')`.\n",
      "  saving_api.save_model(\n"
     ]
    }
   ],
   "source": [
    "#Guardar el modelo en formato h5\n",
    "modelo.save('celsius_fahrenheit.h5')"
   ]
  },
  {
   "cell_type": "code",
   "execution_count": 29,
   "id": "af1c3d61",
   "metadata": {},
   "outputs": [
    {
     "name": "stdout",
     "output_type": "stream",
     "text": [
      "1/1 [==============================] - 0s 102ms/step\n",
      "1000 en poblacion son aproximadamente [[856.42804]] muertos.\n"
     ]
    },
    {
     "data": {
      "image/png": "[encoded data removed]",
      "text/plain": [
       "<Figure size 640x480 with 1 Axes>"
      ]
     },
     "metadata": {},
     "output_type": "display_data"
    }
   ],
   "source": [
    "# Crear el modelo de red neuronal con más neuronas\n",
    "\n",
    "import numpy as np\n",
    "import tensorflow as tf\n",
    "from tensorflow import keras\n",
    "\n",
    "# Datos de entrenamiento\n",
    "t_volumen = np.array([2.128562, 2.636888, 2.763115, 2.661104, 2.772237, 2.817624, 2.784738,2.824531,2.750781,2.934982,2.971596,2.892454,2.847882,2.999252,3.052260,3.010619,2.933337,2.984569,2.972947,2.962742,3.018071,2.927202, 2.929906, 3.039532, 3.008869, 3.093732, 2.923644, 3.062639,2.978510 ,3.092186], dtype=float)\n",
    "t_ventas = np.array([-4.072835, -3.596108, -3.479923, -3.472435, -3.470801, -3.420422, -3.413919, -3.392953, -3.392234, -3.376771, -3.360842, -3.332855 ,-3.325304 , -3.316719, -3.288184, -3.274938 ,-3.265320 ,-3.250960 ,-3.249769, -3.249445, -3.246746, -3.243060 ,-3.237411, -3.229981,-3.226660 ,-3.211619 ,-3.203460, -3.202179, -3.200466 , -3.197849], dtype=float)\n",
    "\n",
    "\n",
    "# Crear un modelo secuencial\n",
    "model = keras.Sequential([\n",
    "    # Primera capa densa con 1000 neuronas y especificando la forma de entrada como [1]\n",
    "    keras.layers.Dense(units=1000, input_shape=[1]),  # Capa densa con N neuronas.\n",
    "    # Segunda capa densa con 5 neuronas de salida\n",
    "    keras.layers.Dense(units=500),\n",
    "    keras.layers.Dense(units=25),\n",
    "    keras.layers.Dense(units=1)  # Capa con N neuronas de salida.\n",
    "])\n",
    "\n",
    "# Compilar el modelo\n",
    "model.compile(optimizer='adam', loss='mean_squared_error')\n",
    "\n",
    "# Entrenar el modelo\n",
    "m1=model.fit(t_volumen,t_ventas, epochs=500, verbose=0)\n",
    "\n",
    "import matplotlib.pyplot as plt\n",
    "plt.xlabel(\"# Epoca\")\n",
    "plt.ylabel(\"magnitud de perdida\")\n",
    "plt.plot(m1.history[\"loss\"])\n",
    "\n",
    "# Realizar una predicción\n",
    "volumen_to_predict =1000\n",
    "predicted_ventast = model.predict([volumen_to_predict])\n",
    "print(f\"{volumen_to_predict} en poblacion son aproximadamente {predicted_ventast} muertos.\")\n"
   ]
  },
  {
   "cell_type": "code",
   "execution_count": 27,
   "id": "1f0bfb3b",
   "metadata": {},
   "outputs": [
    {
     "name": "stdout",
     "output_type": "stream",
     "text": [
      "1/1 [==============================] - 0s 17ms/step\n",
      "Error Cuadrático Medio (MSE): 0.06304563382023584\n",
      "Raíz Cuadrada del Error Cuadrático Medio (RMSE): 0.2510888962503835\n"
     ]
    }
   ],
   "source": [
    "# Evaluar el modelo\n",
    "from sklearn.metrics import mean_squared_error\n",
    "import math\n",
    "\n",
    "# Realizar predicciones para los datos de entrenamiento\n",
    "predicciones_entrenamiento = model.predict(celsius)\n",
    "\n",
    "# Calcular el error cuadrático medio (MSE)\n",
    "mse = mean_squared_error(fahrenheit, predicciones_entrenamiento)\n",
    "\n",
    "# Calcular la raíz cuadrada del error cuadrático medio (RMSE)\n",
    "rmse = math.sqrt(mse)\n",
    "\n",
    "# Imprimir las métricas\n",
    "print(f\"Error Cuadrático Medio (MSE): {mse}\")\n",
    "print(f\"Raíz Cuadrada del Error Cuadrático Medio (RMSE): {rmse}\")"
   ]
  },
  {
   "cell_type": "markdown",
   "id": "0ddadb36",
   "metadata": {},
   "source": [
    "Puedes ajustar y utilizar otras métricas según tus necesidades específicas. Además, ten en cuenta que estas métricas son específicas para los datos de entrenamiento. Para una evaluación más completa, podrías dividir tus datos en conjuntos de entrenamiento y prueba y calcular las métricas en el conjunto de prueba para evaluar la generalización del modelo a datos no vistos."
   ]
  },
  {
   "cell_type": "code",
   "execution_count": null,
   "id": "88dbaa0f",
   "metadata": {},
   "outputs": [],
   "source": []
  }
 ],
 "metadata": {
  "kernelspec": {
   "display_name": "Python 3 (ipykernel)",
   "language": "python",
   "name": "python3"
  },
  "language_info": {
   "codemirror_mode": {
    "name": "ipython",
    "version": 3
   },
   "file_extension": ".py",
   "mimetype": "text/x-python",
   "name": "python",
   "nbconvert_exporter": "python",
   "pygments_lexer": "ipython3",
   "version": "3.12.0"
  }
 },
 "nbformat": 4,
 "nbformat_minor": 5
}
